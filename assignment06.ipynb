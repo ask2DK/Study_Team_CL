{
 "cells": [
  {
   "attachments": {},
   "cell_type": "markdown",
   "metadata": {},
   "source": [
    "# longest match\n",
    "0425(월)"
   ]
  },
  {
   "attachments": {},
   "cell_type": "markdown",
   "metadata": {},
   "source": [
    "----"
   ]
  },
  {
   "cell_type": "code",
   "execution_count": 97,
   "metadata": {},
   "outputs": [],
   "source": [
    "dictionary = {\"ab\":\"xxx\", \"cde\":\"yyy\", \"rr\":\"QQ\", \"cdefgh\":\"zzz\", \"z\":\"X\"}\n",
    "src = \"qqq abcde rrr abcdefghz\""
   ]
  },
  {
   "cell_type": "code",
   "execution_count": 85,
   "metadata": {},
   "outputs": [],
   "source": [
    "def longest_match_type01(text,dictionary):\n",
    "    max_len = len(max(dictionary,key=len))\n",
    "    i = 0\n",
    "    tmp = text\n",
    "    \n",
    "    while i < len(tmp) :\n",
    "        for j in range(max_len,1,-1):\n",
    "            word = tmp[i:i+j]\n",
    "            if word in dictionary:\n",
    "                tmp = tmp[:i] + dictionary[word] + tmp[i+j:]\n",
    "                i+=len(dictionary[word])-len(word)\n",
    "                \n",
    "                break\n",
    "        else :\n",
    "            i+=1\n",
    "    \n",
    "    return tmp"
   ]
  },
  {
   "cell_type": "code",
   "execution_count": 86,
   "metadata": {},
   "outputs": [
    {
     "data": {
      "text/plain": [
       "'qqq xxxyyy QQr xxxzzzX'"
      ]
     },
     "execution_count": 86,
     "metadata": {},
     "output_type": "execute_result"
    }
   ],
   "source": [
    "longest_match_type01(src,dictionary)"
   ]
  },
  {
   "attachments": {},
   "cell_type": "markdown",
   "metadata": {},
   "source": [
    "---"
   ]
  }
 ],
 "metadata": {
  "kernelspec": {
   "display_name": "diwork",
   "language": "python",
   "name": "python3"
  },
  "language_info": {
   "codemirror_mode": {
    "name": "ipython",
    "version": 3
   },
   "file_extension": ".py",
   "mimetype": "text/x-python",
   "name": "python",
   "nbconvert_exporter": "python",
   "pygments_lexer": "ipython3",
   "version": "3.11.2"
  },
  "orig_nbformat": 4
 },
 "nbformat": 4,
 "nbformat_minor": 2
}
