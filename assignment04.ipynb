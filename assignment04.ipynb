{
 "cells": [
  {
   "attachments": {},
   "cell_type": "markdown",
   "metadata": {},
   "source": [
    "# left_to_right_matching\n",
    "04010(월)   \n"
   ]
  },
  {
   "cell_type": "code",
   "execution_count": 65,
   "metadata": {},
   "outputs": [],
   "source": [
    "pl = {\"aa\": \"AA\", \"bbb\": \"BBBBB\"}\n",
    "txt = \"sdskjld aaadskkkk fdfdf qqqbbbwqmfaaa\""
   ]
  },
  {
   "cell_type": "code",
   "execution_count": 66,
   "metadata": {},
   "outputs": [],
   "source": [
    "import re\n",
    "\n",
    "# re.finditer\n",
    "def matching_finder(pl,text):\n",
    "    revised_text = text\n",
    "    offset = 0\n",
    "    \n",
    "    for key in pl.keys():\n",
    "        for m in re.finditer(key,text):\n",
    "            start,end = m.start(),m.end()\n",
    "            revised_text = revised_text[:start+offset] +pl[key]+ revised_text[end+offset:]\n",
    "            offset += len(pl[key]) - len(key)\n",
    "            \n",
    "    return print(revised_text)\n",
    "\n",
    "    "
   ]
  },
  {
   "cell_type": "code",
   "execution_count": 67,
   "metadata": {},
   "outputs": [
    {
     "name": "stdout",
     "output_type": "stream",
     "text": [
      "sdskjld AAadskkkk fdfdf qqqBBBBBwqmfAAa\n"
     ]
    }
   ],
   "source": [
    "matching_finder(pl,txt)"
   ]
  },
  {
   "attachments": {},
   "cell_type": "markdown",
   "metadata": {},
   "source": [
    "---"
   ]
  },
  {
   "cell_type": "markdown",
   "metadata": {
    "vscode": {
     "languageId": "plaintext"
    }
   },
   "source": [
    "#terminology\n",
    "\n",
    "- supervised learning\n",
    "- self-supervised learning\n",
    "- unsupervised learning\n",
    "- state-of-the-art (sota)"
   ]
  }
 ],
 "metadata": {
  "kernelspec": {
   "display_name": "base",
   "language": "python",
   "name": "python3"
  },
  "language_info": {
   "codemirror_mode": {
    "name": "ipython",
    "version": 3
   },
   "file_extension": ".py",
   "mimetype": "text/x-python",
   "name": "python",
   "nbconvert_exporter": "python",
   "pygments_lexer": "ipython3",
   "version": "3.11.2"
  },
  "orig_nbformat": 4
 },
 "nbformat": 4,
 "nbformat_minor": 2
}
