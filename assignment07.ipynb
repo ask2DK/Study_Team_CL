{
 "cells": [
  {
   "attachments": {},
   "cell_type": "markdown",
   "metadata": {},
   "source": [
    "# longest match\n",
    "0502(월)"
   ]
  },
  {
   "attachments": {},
   "cell_type": "markdown",
   "metadata": {},
   "source": [
    "----"
   ]
  },
  {
   "cell_type": "code",
   "execution_count": 2,
   "metadata": {},
   "outputs": [],
   "source": [
    "dictionary = {\"ab\":\"xxx\", \"cde\":\"yyy\", \"rr\":\"QQ\", \"cdefgh\":\"zzz\", \"z\":\"X\"}\n",
    "src = \"qqq abcde rrr abcdefghz\"\n",
    "# qqq xxxyyy QQr xxxzzzX"
   ]
  },
  {
   "cell_type": "code",
   "execution_count": 62,
   "metadata": {},
   "outputs": [],
   "source": [
    "def longest_match(text,dictionary):\n",
    "    max_len = len(max(dictionary,key=len))\n",
    "    tmp = text\n",
    "    station = [0]*len(tmp)\n",
    "\n",
    "    offset = 0\n",
    "    for i in range(max_len,0,-1) :\n",
    "        for j in range(len(tmp)):\n",
    "            span = tmp[j+offset:j+i+offset]\n",
    "            \n",
    "            if station[j+offset:j+i+offset] == [1]*len(span):\n",
    "                continue\n",
    "            \n",
    "            if span in dictionary :\n",
    "                tmp = tmp[:j+offset] + dictionary[span] + tmp[j+i+offset:]\n",
    "                station = station[:j+offset] + [1]*len(dictionary[span]) + station[j+i+offset:]\n",
    "                offset = len(dictionary[span]) - len(span)\n",
    "                \n",
    "                j += i+offset\n",
    "                \n",
    "    return tmp"
   ]
  },
  {
   "cell_type": "code",
   "execution_count": 63,
   "metadata": {},
   "outputs": [
    {
     "data": {
      "text/plain": [
       "'qqq xxxyyy QQr xxxzzzX'"
      ]
     },
     "execution_count": 63,
     "metadata": {},
     "output_type": "execute_result"
    }
   ],
   "source": [
    "longest_match(src,dictionary)"
   ]
  },
  {
   "attachments": {},
   "cell_type": "markdown",
   "metadata": {},
   "source": [
    "---"
   ]
  }
 ],
 "metadata": {
  "kernelspec": {
   "display_name": "diwork",
   "language": "python",
   "name": "python3"
  },
  "language_info": {
   "codemirror_mode": {
    "name": "ipython",
    "version": 3
   },
   "file_extension": ".py",
   "mimetype": "text/x-python",
   "name": "python",
   "nbconvert_exporter": "python",
   "pygments_lexer": "ipython3",
   "version": "3.11.2"
  },
  "orig_nbformat": 4
 },
 "nbformat": 4,
 "nbformat_minor": 2
}
