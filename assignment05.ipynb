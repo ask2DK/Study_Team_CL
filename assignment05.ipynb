{
 "cells": [
  {
   "attachments": {},
   "cell_type": "markdown",
   "metadata": {},
   "source": [
    "# RE : left_to_right_matching\n",
    "0417(월)   \n"
   ]
  },
  {
   "cell_type": "code",
   "execution_count": 20,
   "metadata": {},
   "outputs": [],
   "source": [
    "pl = {\"aaa\": \"AA\", \"bbb\": \"BBBBB\"}\n",
    "txt = \"sdskjld aaadskkkk fdfdf qqqbbbwqmf\""
   ]
  },
  {
   "cell_type": "code",
   "execution_count": 21,
   "metadata": {},
   "outputs": [],
   "source": [
    "def left2right_matching(pl,txt):\n",
    "    \n",
    "    tmp = txt\n",
    "    window_size = len(max(pl))\n",
    "    \n",
    "    offset = 0\n",
    "    for i in range(window_size, 0, -1):\n",
    "        for j in range(len(tmp)-i):\n",
    "            if tmp[j:j+i] in pl :\n",
    "                revised_word = pl[tmp[j:j+i]]\n",
    "                origin_word = tmp[j:j+i]\n",
    "                tmp = tmp[:j] + revised_word + tmp[j+i+1:]\n",
    "                offset += len(revised_word) - len(origin_word)\n",
    "\n",
    "    return tmp"
   ]
  },
  {
   "cell_type": "code",
   "execution_count": 22,
   "metadata": {},
   "outputs": [
    {
     "data": {
      "text/plain": [
       "'sdskjld AAskkkk fdfdf qqqBBBBBqmf'"
      ]
     },
     "execution_count": 22,
     "metadata": {},
     "output_type": "execute_result"
    }
   ],
   "source": [
    "left2right_matching(pl,txt)"
   ]
  },
  {
   "attachments": {},
   "cell_type": "markdown",
   "metadata": {},
   "source": [
    "---"
   ]
  },
  {
   "attachments": {},
   "cell_type": "markdown",
   "metadata": {
    "vscode": {
     "languageId": "plaintext"
    }
   },
   "source": [
    "#terminology\n",
    "\n",
    "- parameter\n",
    "- hyper-parameter\n",
    "- pooling, padding"
   ]
  }
 ],
 "metadata": {
  "kernelspec": {
   "display_name": "base",
   "language": "python",
   "name": "python3"
  },
  "language_info": {
   "codemirror_mode": {
    "name": "ipython",
    "version": 3
   },
   "file_extension": ".py",
   "mimetype": "text/x-python",
   "name": "python",
   "nbconvert_exporter": "python",
   "pygments_lexer": "ipython3",
   "version": "3.11.2"
  },
  "orig_nbformat": 4
 },
 "nbformat": 4,
 "nbformat_minor": 2
}
