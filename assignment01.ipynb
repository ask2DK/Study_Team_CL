{
 "cells": [
  {
   "attachments": {},
   "cell_type": "markdown",
   "metadata": {},
   "source": [
    "# N-Gram\n",
    "0320(월)"
   ]
  },
  {
   "cell_type": "code",
   "execution_count": 11,
   "metadata": {},
   "outputs": [
    {
     "data": {
      "text/plain": [
       "\"Biden, who met with Andersson and Finnish President Sauli Niinisto in the Oval Office before making public remarks, did not reference any specific security measures the United States would provide the two countries before their membership is finalized. The application period is seen as a particularly vulnerable one, because the two countries are defying years of Russian threats against joining NATO butdon't yet fall under the alliance's security umbrella.\""
      ]
     },
     "execution_count": 11,
     "metadata": {},
     "output_type": "execute_result"
    }
   ],
   "source": [
    "import re\n",
    "\n",
    "text = \"Biden, who met with Andersson and Finnish President Sauli Niinisto in the Oval Office before making public remarks, did not reference any specific security measures the United States would provide the two countries before their membership is finalized. The application period is seen as a particularly vulnerable one, because the two countries are defying years of Russian threats against joining NATO butdon't yet fall under the alliance's security umbrella.\"\n",
    "text"
   ]
  },
  {
   "attachments": {},
   "cell_type": "markdown",
   "metadata": {},
   "source": [
    "0. character"
   ]
  },
  {
   "cell_type": "code",
   "execution_count": 67,
   "metadata": {},
   "outputs": [],
   "source": [
    "char_dict = dict()\n",
    "for ch in text :\n",
    "    if ch not in char_dict.keys():\n",
    "        char_dict[ch] = 1\n",
    "    else :\n",
    "        char_dict[ch] += 1\n",
    "        \n",
    "char_dict = sorted(char_dict.items(),key=lambda x : x[1],reverse = True)\n",
    "# char_dict"
   ]
  },
  {
   "cell_type": "code",
   "execution_count": 71,
   "metadata": {},
   "outputs": [],
   "source": [
    "n = 3\n",
    "ch_dict = dict()\n",
    "n_gram = zip(*[text[i:] for i in range(n)])\n",
    "\n",
    "for i in n_gram:\n",
    "    if i not in ch_dict.keys():\n",
    "        ch_dict[i] = 1\n",
    "    else :\n",
    "        ch_dict[i] += 1\n",
    "        \n",
    "ch_dict = sorted(ch_dict.items(),key=lambda x : x[1],reverse = True)\n",
    "# ch_dict"
   ]
  },
  {
   "attachments": {},
   "cell_type": "markdown",
   "metadata": {},
   "source": [
    "1. unigrams"
   ]
  },
  {
   "cell_type": "code",
   "execution_count": 32,
   "metadata": {},
   "outputs": [],
   "source": [
    "# 1. 구두점 제거\n",
    "text01 = re.sub('[^a-zA-Z]',' ',text)\n",
    "\n",
    "# 2. 공백으로 나누기\n",
    "text01_list = text01.split()\n",
    "# text01_list\n",
    "\n",
    "# 3. unigrams dictionary\n",
    "unigrams_dict = dict()\n",
    "for word in text01_list :\n",
    "    if word not in unigrams_dict.keys() :\n",
    "        unigrams_dict[word] =1\n",
    "    else :\n",
    "        unigrams_dict[word] +=1\n",
    "unigrams_dict = sorted(unigrams_dict.items(),key=lambda x:x[1],reverse = True)\n",
    "# unigrams_dict"
   ]
  },
  {
   "attachments": {},
   "cell_type": "markdown",
   "metadata": {},
   "source": [
    "2. bigrams"
   ]
  },
  {
   "cell_type": "code",
   "execution_count": 39,
   "metadata": {},
   "outputs": [],
   "source": [
    "# 1. 구두점 제거\n",
    "text02 = re.sub('[^a-zA-Z]',' ',text)\n",
    "\n",
    "# 2. 공백으로 나누기\n",
    "text02_list = text02.split()\n",
    "# text02_list\n",
    "\n",
    "# 3. bigrams dictionary\n",
    "bigrams_dict = dict()\n",
    "for word1,word2 in zip(text02_list,text02_list[1:]):\n",
    "    if (word1,word2) not in bigrams_dict.keys():\n",
    "        bigrams_dict[word1,word2] =1\n",
    "    else :\n",
    "        bigrams_dict[word1,word2] +=1\n",
    "        \n",
    "bigrams_dict = sorted(bigrams_dict.items(),key=lambda x:x[1],reverse = True)\n",
    "# bigrams_dict"
   ]
  },
  {
   "attachments": {},
   "cell_type": "markdown",
   "metadata": {},
   "source": [
    "3. trigrams"
   ]
  },
  {
   "cell_type": "code",
   "execution_count": 42,
   "metadata": {},
   "outputs": [],
   "source": [
    "# 1. 구두점 제거\n",
    "text03 = re.sub('[^a-zA-Z]',' ',text)\n",
    "\n",
    "# 2. 공백으로 나누기\n",
    "text03_list = text03.split()\n",
    "# text03_list\n",
    "\n",
    "# 3. bigrams dictionary\n",
    "trigrams_dict = dict()\n",
    "for word1,word2,word3 in zip(text03_list,text03_list[1:],text03_list[2:]):\n",
    "    if (word1,word2,word3) not in bigrams_dict.keys():\n",
    "        trigrams_dict[word1,word2,word3] =1\n",
    "    else :\n",
    "        trigrams_dict[word1,word2,word3] +=1\n",
    "        \n",
    "trigrams_dict = sorted(trigrams_dict.items(),key=lambda x:x[1],reverse = True)\n",
    "# trigrams_dict"
   ]
  },
  {
   "attachments": {},
   "cell_type": "markdown",
   "metadata": {},
   "source": [
    "4. etc"
   ]
  },
  {
   "cell_type": "code",
   "execution_count": 72,
   "metadata": {},
   "outputs": [],
   "source": [
    "# 1. 구두점 제거\n",
    "text04 = re.sub('[^a-zA-Z]',' ',text)\n",
    "\n",
    "# 2. 공백으로 나누기\n",
    "text04_list = text04.split()\n",
    "\n",
    "# 3. 입력\n",
    "n = 3\n",
    "test_dict = dict()\n",
    "n_gram = zip(*[text04_list[i:] for i in range(n)])\n",
    "\n",
    "for i in n_gram:\n",
    "    if i not in test_dict.keys():\n",
    "        test_dict[i] = 1\n",
    "    else :\n",
    "        test_dict[i] += 1\n",
    "# test_dict\n"
   ]
  }
 ],
 "metadata": {
  "kernelspec": {
   "display_name": "Python 3",
   "language": "python",
   "name": "python3"
  },
  "language_info": {
   "codemirror_mode": {
    "name": "ipython",
    "version": 3
   },
   "file_extension": ".py",
   "mimetype": "text/x-python",
   "name": "python",
   "nbconvert_exporter": "python",
   "pygments_lexer": "ipython3",
   "version": "3.10.2"
  },
  "orig_nbformat": 4,
  "vscode": {
   "interpreter": {
    "hash": "52634da84371cba311ea128a5ea7cdc41ff074b781779e754b270ff9f8153cee"
   }
  }
 },
 "nbformat": 4,
 "nbformat_minor": 2
}
