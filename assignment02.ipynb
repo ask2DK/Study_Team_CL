{
 "cells": [
  {
   "attachments": {},
   "cell_type": "markdown",
   "metadata": {},
   "source": [
    "# N-Gram Model\n",
    "0327(월)   \n"
   ]
  },
  {
   "cell_type": "code",
   "execution_count": 1,
   "metadata": {},
   "outputs": [],
   "source": [
    "import re\n",
    "\n",
    "def mini_ngram(corpus_file_name :str, n_gram:int,word:str):\n",
    "    corpus_file = open(corpus_file_name,\"r\")\n",
    "    corpus_dict = dict()\n",
    "    \n",
    "    # 코퍼스 딕셔너리 구현\n",
    "    for line in corpus_file :\n",
    "        words = re.sub('[,.\\'·\\\"()]',' ',line.strip()).split()\n",
    "        \n",
    "        for i in range(len(words)-n_gram+1) :\n",
    "            if tuple(words[i:i+n_gram]) in corpus_dict.keys() :\n",
    "                corpus_dict[tuple(words[i:i+n_gram])] +=1\n",
    "            else :\n",
    "                corpus_dict[tuple(words[i:i+n_gram])] =1\n",
    "                \n",
    "    corpus_file.close()\n",
    "    \n",
    "    # output 구현\n",
    "    for key in corpus_dict.keys() :\n",
    "        if word == key[0] :\n",
    "            print(corpus_dict[key]/len(corpus_dict), key)\n",
    "\n",
    "    return "
   ]
  },
  {
   "cell_type": "code",
   "execution_count": 2,
   "metadata": {},
   "outputs": [
    {
     "name": "stdout",
     "output_type": "stream",
     "text": [
      "0.0005589109221459898 ('학교에',)\n"
     ]
    }
   ],
   "source": [
    "mini_ngram('230320_data_corpus.txt',1,'학교에')"
   ]
  },
  {
   "cell_type": "code",
   "execution_count": 3,
   "metadata": {},
   "outputs": [
    {
     "name": "stdout",
     "output_type": "stream",
     "text": [
      "1.986641820399633e-06 ('학교에', '지각해')\n",
      "1.986641820399633e-06 ('학교에', '지각하겠어')\n",
      "1.986641820399633e-06 ('학교에', '대해서')\n",
      "1.986641820399633e-06 ('학교에', '못갈')\n",
      "1.986641820399633e-06 ('학교에', '들어갑니까?')\n",
      "9.933209101998164e-06 ('학교에', '갈')\n",
      "1.986641820399633e-06 ('학교에', '안')\n",
      "1.986641820399633e-06 ('학교에', '다니던')\n",
      "1.986641820399633e-06 ('학교에', '들어가면')\n",
      "1.986641820399633e-06 ('학교에', '일하러')\n",
      "1.986641820399633e-06 ('학교에', '다닌')\n",
      "3.973283640799266e-06 ('학교에', '오지')\n",
      "1.986641820399633e-06 ('학교에', '갑니다')\n",
      "1.986641820399633e-06 ('학교에', '남게')\n",
      "1.986641820399633e-06 ('학교에', '다니나요?')\n",
      "1.986641820399633e-06 ('학교에', '다시')\n",
      "1.986641820399633e-06 ('학교에', '있는')\n",
      "3.973283640799266e-06 ('학교에', '가고')\n",
      "1.986641820399633e-06 ('학교에', '한국학생들이')\n",
      "1.986641820399633e-06 ('학교에', '아니')\n",
      "5.959925461198899e-06 ('학교에', '가지')\n",
      "1.986641820399633e-06 ('학교에', '대학원과정이')\n",
      "1.986641820399633e-06 ('학교에', '등록하지')\n",
      "5.959925461198899e-06 ('학교에', '가는')\n",
      "5.959925461198899e-06 ('학교에', '가야')\n",
      "1.986641820399633e-06 ('학교에', '나타나지')\n",
      "1.986641820399633e-06 ('학교에', '뛰어가요')\n",
      "1.986641820399633e-06 ('학교에', '학생이')\n",
      "1.986641820399633e-06 ('학교에', '배치되기')\n",
      "1.986641820399633e-06 ('학교에', '신문을')\n",
      "1.986641820399633e-06 ('학교에', '최신식')\n",
      "1.986641820399633e-06 ('학교에', '다녀요?')\n",
      "1.986641820399633e-06 ('학교에', '간다')\n",
      "1.986641820399633e-06 ('학교에', '오라고')\n",
      "1.986641820399633e-06 ('학교에', '간다는')\n",
      "1.986641820399633e-06 ('학교에', '결석했지?')\n",
      "1.986641820399633e-06 ('학교에', '햄릿의')\n",
      "1.986641820399633e-06 ('학교에', '있었거나')\n",
      "1.986641820399633e-06 ('학교에', '늦었어요')\n",
      "1.986641820399633e-06 ('학교에', '있었을')\n",
      "1.986641820399633e-06 ('학교에', '바래다주는')\n",
      "1.986641820399633e-06 ('학교에', '뽑히기')\n",
      "1.986641820399633e-06 ('학교에', '행정학과가')\n",
      "1.986641820399633e-06 ('학교에', '어떤')\n",
      "1.986641820399633e-06 ('학교에', '다닌다는')\n",
      "1.986641820399633e-06 ('학교에', '갔다')\n",
      "1.986641820399633e-06 ('학교에', '되돌아온걸')\n",
      "1.986641820399633e-06 ('학교에', '입학하게')\n",
      "1.986641820399633e-06 ('학교에', '지각하더라')\n",
      "3.973283640799266e-06 ('학교에', '갔습니다')\n",
      "1.986641820399633e-06 ('학교에', '늦지')\n",
      "3.973283640799266e-06 ('학교에', '대해')\n",
      "1.986641820399633e-06 ('학교에', '있긴')\n",
      "1.986641820399633e-06 ('학교에', '데려다')\n",
      "1.986641820399633e-06 ('학교에', '늦게왔어?')\n",
      "1.986641820399633e-06 ('학교에', '걸어가고')\n",
      "1.986641820399633e-06 ('학교에', '보내기로')\n",
      "1.986641820399633e-06 ('학교에', '가요?')\n",
      "1.986641820399633e-06 ('학교에', '지각했다')\n",
      "1.986641820399633e-06 ('학교에', '안가는')\n",
      "1.986641820399633e-06 ('학교에', '한')\n",
      "1.986641820399633e-06 ('학교에', '외국인이')\n",
      "1.986641820399633e-06 ('학교에', '자전거를')\n",
      "3.973283640799266e-06 ('학교에', '못')\n",
      "1.986641820399633e-06 ('학교에', '갔던')\n",
      "1.986641820399633e-06 ('학교에', '다닌다')\n",
      "1.986641820399633e-06 ('학교에', '지각한다')\n",
      "1.986641820399633e-06 ('학교에', '영어전용교사들을')\n",
      "1.986641820399633e-06 ('학교에', '가기')\n",
      "1.986641820399633e-06 ('학교에', '적응이')\n",
      "1.986641820399633e-06 ('학교에', '도착할')\n",
      "1.986641820399633e-06 ('학교에', '다니기를')\n",
      "1.986641820399633e-06 ('학교에', '전화할')\n",
      "1.986641820399633e-06 ('학교에', '다니거나')\n",
      "1.986641820399633e-06 ('학교에', '시간')\n",
      "1.986641820399633e-06 ('학교에', '갔어')\n",
      "1.986641820399633e-06 ('학교에', '진학하지')\n",
      "1.986641820399633e-06 ('학교에', '가요')\n",
      "1.986641820399633e-06 ('학교에', '들고')\n",
      "1.986641820399633e-06 ('학교에', '들어가는데')\n",
      "1.986641820399633e-06 ('학교에', '가기를')\n",
      "1.986641820399633e-06 ('학교에', '가진')\n",
      "1.986641820399633e-06 ('학교에', '가기로')\n"
     ]
    }
   ],
   "source": [
    "mini_ngram('230320_data_corpus.txt',2,'학교에')"
   ]
  },
  {
   "attachments": {},
   "cell_type": "markdown",
   "metadata": {},
   "source": [
    "---"
   ]
  },
  {
   "attachments": {},
   "cell_type": "markdown",
   "metadata": {},
   "source": [
    "- A문장을 B문장으로 치환하기\n",
    "- 정규표현식 사용(권장)\n",
    "- 다양한 버젼으로 시도하기"
   ]
  },
  {
   "cell_type": "code",
   "execution_count": 4,
   "metadata": {},
   "outputs": [],
   "source": [
    "A = \"sdskjld aaadskkkk fdfdmmmmmkkf qqqbbbwqmfff\"\n",
    "B = \"sdskjld AdsK fdfdMkkf QBwqmF\""
   ]
  },
  {
   "attachments": {},
   "cell_type": "markdown",
   "metadata": {},
   "source": [
    "test01   \n",
    "참고 사이트 : https://docs.python.org/3/library/re.html#match-objects   \n",
    "참고 사이트 : https://wikidocs.net/4309   "
   ]
  },
  {
   "cell_type": "code",
   "execution_count": 5,
   "metadata": {},
   "outputs": [
    {
     "data": {
      "text/plain": [
       "'sdskjld AdsK fdfdMkkf QBwqmF'"
      ]
     },
     "execution_count": 5,
     "metadata": {},
     "output_type": "execute_result"
    }
   ],
   "source": [
    "# (\\w) 문자숫자를 그룹으로 묶고\n",
    "# \\\\1 첫번째 그룹을 참조하여 동일한 단어 매칭\n",
    "# {2,} 2번 이상 반복된 : (\\w)문자 하나 + 2번 이상 >> 3번 이상 반복된 문자\n",
    "\n",
    "re.sub('(\\w)\\\\1{2,}',lambda x : x.group(1).upper(),A)"
   ]
  },
  {
   "cell_type": "code",
   "execution_count": 6,
   "metadata": {},
   "outputs": [],
   "source": [
    "# for i in re.finditer('(\\w)\\\\1{2,}',A):\n",
    "#     print(i.group().upper())\n",
    "#     print(i.group(1).upper())\n",
    "#     print()"
   ]
  },
  {
   "attachments": {},
   "cell_type": "markdown",
   "metadata": {},
   "source": [
    "test02"
   ]
  },
  {
   "cell_type": "code",
   "execution_count": 7,
   "metadata": {},
   "outputs": [
    {
     "data": {
      "text/plain": [
       "'sdskjld AdsK fdfdMkkf QBwqmF'"
      ]
     },
     "execution_count": 7,
     "metadata": {},
     "output_type": "execute_result"
    }
   ],
   "source": [
    "result =''\n",
    "for ch in A :\n",
    "    if set(result[-2:].lower()) == set(ch):\n",
    "        result= result[:-2] + ch.upper()\n",
    "    elif result[-1:] == ch.upper() :\n",
    "        result= result[:-1] + ch.upper()\n",
    "    else :\n",
    "        result +=ch\n",
    "        \n",
    "result"
   ]
  }
 ],
 "metadata": {
  "kernelspec": {
   "display_name": "base",
   "language": "python",
   "name": "python3"
  },
  "language_info": {
   "codemirror_mode": {
    "name": "ipython",
    "version": 3
   },
   "file_extension": ".py",
   "mimetype": "text/x-python",
   "name": "python",
   "nbconvert_exporter": "python",
   "pygments_lexer": "ipython3",
   "version": "3.9.13"
  },
  "orig_nbformat": 4
 },
 "nbformat": 4,
 "nbformat_minor": 2
}
