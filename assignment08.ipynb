{
 "cells": [
  {
   "attachments": {},
   "cell_type": "markdown",
   "metadata": {},
   "source": [
    "# String Algorithm\n",
    "0508(월)"
   ]
  },
  {
   "attachments": {},
   "cell_type": "markdown",
   "metadata": {},
   "source": [
    "**문자열 탐색 (String Searching) 알고리즘**\n",
    "- 브루트포스 (Brute Force) 알고리즘 \n",
    "- KMP (Knuth-Morris-Pratt) 알고리즘 \n",
    "- 보이어-무어 (Boyer-Moore) 알고리즘 \n",
    "- Rabin-Karp 알고리즘"
   ]
  },
  {
   "attachments": {},
   "cell_type": "markdown",
   "metadata": {},
   "source": [
    "---"
   ]
  },
  {
   "attachments": {},
   "cell_type": "markdown",
   "metadata": {},
   "source": [
    "**브루트포스 (Brute Force)**"
   ]
  },
  {
   "attachments": {},
   "cell_type": "markdown",
   "metadata": {},
   "source": [
    "- 정의 : 완전 탐색 (brute force) 유형으로, 가능한 경우의 수를 모두 검사해보는 탐색 방법.\n",
    "- 장점 : 알고리즘을 설계하고 구현하기 쉽다.\n",
    "- 단점 : 완전 탐색 알고리즘은 비효율적인 시간 복잡도를 가지고 있으며, 데이터 수가 큰 경우에 정상적으로 작동하지 않을 수 있다.\n",
    "> 확인할 전체 데이터의 수가 100만 개 이하일 때 완전 탐색을 사용하면 적절하다고 합니다."
   ]
  },
  {
   "attachments": {},
   "cell_type": "markdown",
   "metadata": {},
   "source": [
    "- 브루트포스 (Brute Force) 종류 :\n",
    "    - 선형 구조 : 순차 탐색\n",
    "    - 비선형 구조 : 백트래킹, DFS, BFS"
   ]
  },
  {
   "cell_type": "code",
   "execution_count": 16,
   "metadata": {},
   "outputs": [
    {
     "name": "stdout",
     "output_type": "stream",
     "text": [
      "f\n"
     ]
    }
   ],
   "source": [
    "# f 찾기\n",
    "data = 'abcdefg'\n",
    "for ch in range(len(data)):\n",
    "    if 'f' == data[ch]:\n",
    "        print(data[ch])\n",
    "        break\n",
    "else :\n",
    "    print(\"nope\")"
   ]
  },
  {
   "attachments": {},
   "cell_type": "markdown",
   "metadata": {},
   "source": [
    "---"
   ]
  },
  {
   "attachments": {},
   "cell_type": "markdown",
   "metadata": {},
   "source": [
    "**KMP (Knuth-Morris-Pratt) 알고리즘**"
   ]
  },
  {
   "attachments": {},
   "cell_type": "markdown",
   "metadata": {},
   "source": [
    "- 정의 : \n",
    "    - 문자열 매칭 알고리즘 중 하나이며,   \n",
    "    - 접두사와 접미사의 개념을 활용하여 반복되는 연산을 얼마나 줄일 수 있는지 판별하여 매칭할 문자열을 빠르게 점프하는 기법.   \n",
    "    - 찾고자 하는 문자열을 시간 복잡도와 공간 복잡도 각각 O(n+m)으로 찾게 해 준다. 접두사와 접미사가 일치할 때 그만큼 점프하여 속도를 개선."
   ]
  },
  {
   "attachments": {},
   "cell_type": "markdown",
   "metadata": {},
   "source": [
    "- 사용 이유 :\n",
    "    - 어떤 문자열에서 특정 문자열(patten)을 찾고자 할 때, 효율적으로 찾기 위한 알고리즘"
   ]
  },
  {
   "attachments": {},
   "cell_type": "markdown",
   "metadata": {},
   "source": [
    "- 접두사, 접미사 :"
   ]
  },
  {
   "attachments": {
    "image.png": {
     "image/png": "[encoded data removed]"
    }
   },
   "cell_type": "markdown",
   "metadata": {},
   "source": [
    "![image.png](attachment:image.png)"
   ]
  },
  {
   "attachments": {},
   "cell_type": "markdown",
   "metadata": {},
   "source": [
    "- 예제 :"
   ]
  },
  {
   "cell_type": "code",
   "execution_count": 17,
   "metadata": {},
   "outputs": [],
   "source": [
    "origin_string = 'ababacabacaabacaaba'\n",
    "search = 'abacaaba'"
   ]
  },
  {
   "cell_type": "code",
   "execution_count": 18,
   "metadata": {},
   "outputs": [],
   "source": [
    "j = 0 \n",
    "pi = [0]*len(search)   # pi : 문자열이 일치하지 않을 경우, jump할 위치에 대한 정보\n",
    "for i in range(1, len(search)) :\n",
    "    while j > 0 and search[i] != search[j] :\n",
    "        j = pi[j-1] \n",
    "    if search[j] == search[i] :\n",
    "        j += 1\n",
    "        pi[i] = j"
   ]
  },
  {
   "cell_type": "code",
   "execution_count": 19,
   "metadata": {},
   "outputs": [
    {
     "data": {
      "text/plain": [
       "[0, 0, 1, 0, 1, 1, 2, 3]"
      ]
     },
     "execution_count": 19,
     "metadata": {},
     "output_type": "execute_result"
    }
   ],
   "source": [
    "pi\n",
    "# [0, 0, 1, 0, 1, 1, 2, 3]\n",
    "# 해당 인덱스 까지 왔을 경우, 최대 일치 길이 정보를 포함함.\n",
    "# 즉, 비교하다가 틀렸을 경우, 어디까지 일치했는지 확인하고 jump해서 다시 비교 진행"
   ]
  },
  {
   "cell_type": "code",
   "execution_count": 20,
   "metadata": {},
   "outputs": [
    {
     "name": "stdout",
     "output_type": "stream",
     "text": [
      "a a 0\n",
      "b b 1\n",
      "a a 2\n",
      "3\n",
      "b b 1\n",
      "a a 2\n",
      "c c 3\n",
      "a a 4\n",
      "5\n",
      "b b 1\n",
      "a a 2\n",
      "c c 3\n",
      "a a 4\n",
      "a a 5\n",
      "b b 6\n",
      "a a 7\n",
      "6 번째 인덱스에서부터 일치합니다.\n",
      "c c 3\n",
      "a a 4\n",
      "a a 5\n",
      "b b 6\n",
      "a a 7\n",
      "11 번째 인덱스에서부터 일치합니다.\n"
     ]
    }
   ],
   "source": [
    "\n",
    "j=0\n",
    "for i in range(len(origin_string)):\n",
    "    \n",
    "    while j > 0 and search[j] != origin_string[i]:\n",
    "        print(j)\n",
    "        j = pi[j-1]\n",
    "    \n",
    "    if search[j] == origin_string[i] :\n",
    "        print(search[j],origin_string[i],j)\n",
    "        if j == len(search) -1 :\n",
    "            print(i - len(search) + 1, \"번째 인덱스에서부터 일치\")\n",
    "            j = pi[j-1]\n",
    "        j += 1"
   ]
  },
  {
   "cell_type": "code",
   "execution_count": null,
   "metadata": {},
   "outputs": [],
   "source": []
  }
 ],
 "metadata": {
  "kernelspec": {
   "display_name": "diwork",
   "language": "python",
   "name": "python3"
  },
  "language_info": {
   "codemirror_mode": {
    "name": "ipython",
    "version": 3
   },
   "file_extension": ".py",
   "mimetype": "text/x-python",
   "name": "python",
   "nbconvert_exporter": "python",
   "pygments_lexer": "ipython3",
   "version": "3.11.2"
  },
  "orig_nbformat": 4
 },
 "nbformat": 4,
 "nbformat_minor": 2
}
